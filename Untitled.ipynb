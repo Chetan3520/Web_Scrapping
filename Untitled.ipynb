{
 "cells": [
  {
   "cell_type": "markdown",
   "id": "1715718b",
   "metadata": {
    "toc": true
   },
   "source": [
    "<h1>Table of Contents<span class=\"tocSkip\"></span></h1>\n",
    "<div class=\"toc\"><ul class=\"toc-item\"><li><span><a href=\"#Part1\" data-toc-modified-id=\"Part1-1\"><span class=\"toc-item-num\">1&nbsp;&nbsp;</span>Part1</a></span></li><li><span><a href=\"#part2\" data-toc-modified-id=\"part2-2\"><span class=\"toc-item-num\">2&nbsp;&nbsp;</span>part2</a></span></li><li><span><a href=\"#part-3\" data-toc-modified-id=\"part-3-3\"><span class=\"toc-item-num\">3&nbsp;&nbsp;</span>part 3</a></span></li></ul></div>"
   ]
  },
  {
   "cell_type": "markdown",
   "id": "1f5d1d77",
   "metadata": {},
   "source": [
    "# Importing Libraries"
   ]
  },
  {
   "cell_type": "code",
   "execution_count": null,
   "id": "47f5ae7e",
   "metadata": {},
   "outputs": [],
   "source": []
  },
  {
   "cell_type": "code",
   "execution_count": 3,
   "id": "9e3a899c",
   "metadata": {},
   "outputs": [],
   "source": [
    "import pandas as pd\n",
    "from bs4 import BeautifulSoup\n",
    "import requests\n"
   ]
  },
  {
   "cell_type": "markdown",
   "id": "d08db5a5",
   "metadata": {},
   "source": [
    "## Part1"
   ]
  },
  {
   "cell_type": "code",
   "execution_count": 26,
   "id": "4c6bd2d5",
   "metadata": {},
   "outputs": [],
   "source": [
    "url='https://www.marketwatch.com/tools/screener/premarket'\n",
    "page=requests.get(url)\n",
    "soup=BeautifulSoup(page.text,'html.parser')\n",
    "\n"
   ]
  },
  {
   "cell_type": "markdown",
   "id": "0daa35ce",
   "metadata": {},
   "source": [
    "## part2"
   ]
  },
  {
   "cell_type": "code",
   "execution_count": 7,
   "id": "802e6d71",
   "metadata": {},
   "outputs": [
    {
     "name": "stdout",
     "output_type": "stream",
     "text": [
      "[<h1 class=\"title\">\n",
      "<span class=\"label\">Premarket Screener</span>\n",
      "</h1>]\n"
     ]
    }
   ],
   "source": [
    "title=soup.find_all('h1',class_='title')\n",
    "print(title)"
   ]
  },
  {
   "cell_type": "code",
   "execution_count": 14,
   "id": "f126a49e",
   "metadata": {},
   "outputs": [],
   "source": [
    "for i in soup.find_all('h1',claas_='title'):\n",
    "     print(i)\n",
    "                       "
   ]
  },
  {
   "cell_type": "markdown",
   "id": "38b47119",
   "metadata": {},
   "source": [
    "## part 3\n"
   ]
  },
  {
   "cell_type": "code",
   "execution_count": 27,
   "id": "8edda38b",
   "metadata": {},
   "outputs": [
    {
     "name": "stdout",
     "output_type": "stream",
     "text": [
      "  Symbol    Price   Volume Change$  Change%\n",
      "0   LESL    $5.20       64    0.31     6.34\n",
      "1    PEN  $262.87        6   12.51     5.00\n",
      "2    BRX   $22.76        5    1.08     4.98\n",
      "3      W   $63.34   38.65K    2.81     4.64\n",
      "4   UHAL   $59.22        4    2.41     4.24\n",
      "5    MCY   $29.16        1    1.11     3.96\n",
      "6   SGEN  $213.81   701.8K    7.42     3.60\n",
      "7   OPEN    $2.64  510.28K    0.09     3.53\n",
      "8   HOLX   $72.43      707    2.37     3.38\n",
      "9   YUMC   $56.89    1.29K    1.76     3.19\n"
     ]
    }
   ],
   "source": [
    "import pandas as pd\n",
    "import requests\n",
    "from bs4 import BeautifulSoup\n",
    "\n",
    "response = requests.get(url)\n",
    "soup = BeautifulSoup(response.text, 'html.parser')\n",
    "\n",
    "table = soup.find_all('div', class_='element element--table table--fixed screener-table')\n",
    "column_headers = ['Symbol', 'Price', 'Volume', 'Change$', 'Change%']\n",
    "data = []\n",
    "\n",
    "for tr in soup.select('a'):\n",
    "    tr.extract()\n",
    "\n",
    "for tr in table[0].find_all('tr'):\n",
    "    i = 0\n",
    "    symbol = ''\n",
    "    price = ''\n",
    "    volume = ''\n",
    "    change = ''\n",
    "    change_percent = 0\n",
    "\n",
    "    for td in tr.find_all('td'):\n",
    "        i = i + 1\n",
    "\n",
    "        if i == 1:\n",
    "            symbol = td.text.replace('\\n', '')\n",
    "        if i == 3:\n",
    "            price = td.text.replace('\\n', '')\n",
    "        if i == 4:\n",
    "            volume = td.text.replace('\\n', '')\n",
    "        if i == 5:\n",
    "            change = td.text.replace('\\n', '')\n",
    "        if i == 6:\n",
    "            change_percent = float(td.text.replace('\\n', '').replace('%', ''))\n",
    "\n",
    "    if symbol != '':\n",
    "        data.append({\n",
    "            'Symbol': symbol,\n",
    "            'Price': price,\n",
    "            'Volume': volume,\n",
    "            'Change$': change,\n",
    "            'Change%': change_percent\n",
    "        })\n",
    "\n",
    "dataframe = pd.DataFrame(data)\n",
    "dataframe.sort_values(\"Change%\", axis=0, ascending=False, inplace=True, na_position='last')\n",
    "\n",
    "print(dataframe)\n"
   ]
  },
  {
   "cell_type": "code",
   "execution_count": 35,
   "id": "665ad823",
   "metadata": {},
   "outputs": [
    {
     "name": "stdout",
     "output_type": "stream",
     "text": [
      "    Symbol   Price Volume Change$  Change%\n",
      "0     LESL   $5.20     64    0.31     6.34\n",
      "190   LESL   $5.20     64    0.31     6.34\n",
      "90    LESL   $5.20     64    0.31     6.34\n",
      "110   LESL   $5.20     64    0.31     6.34\n",
      "150   LESL   $5.20     64    0.31     6.34\n",
      "..     ...     ...    ...     ...      ...\n",
      "20     FOX  $28.28     2K   -1.31    -4.43\n",
      "120    FOX  $28.28     2K   -1.31    -4.43\n",
      "160    FOX  $28.28     2K   -1.31    -4.43\n",
      "100    FOX  $28.28     2K   -1.31    -4.43\n",
      "200    FOX  $28.28     2K   -1.31    -4.43\n",
      "\n",
      "[230 rows x 5 columns]\n"
     ]
    }
   ],
   "source": [
    "for j in range(3):\n",
    "    for tr in table[j].find_all('tr'):\n",
    "        i = 0\n",
    "        symbol = ''\n",
    "        price = ''\n",
    "        volume = ''\n",
    "        change = ''\n",
    "        change_percent = 0\n",
    "\n",
    "        for td in tr.find_all('td'):\n",
    "            i = i + 1\n",
    "\n",
    "            if i == 1:\n",
    "                symbol = td.text.replace('\\n', '')\n",
    "            if i == 3:\n",
    "                price = td.text.replace('\\n', '')\n",
    "            if i == 4:\n",
    "                volume = td.text.replace('\\n', '')\n",
    "            if i == 5:\n",
    "                change = td.text.replace('\\n', '')\n",
    "            if i == 6:\n",
    "                change_percent = float(td.text.replace('\\n', '').replace('%', ''))\n",
    "\n",
    "        if symbol != '':\n",
    "            data.append({\n",
    "                'Symbol': symbol,\n",
    "                'Price': price,\n",
    "                'Volume': volume,\n",
    "                'Change$': change,\n",
    "                'Change%': change_percent\n",
    "            })\n",
    "\n",
    "dataframe = pd.DataFrame(data)\n",
    "dataframe.sort_values(\"Change%\", axis=0, ascending=False, inplace=True, na_position='last')\n",
    "\n",
    "print(dataframe)\n"
   ]
  },
  {
   "cell_type": "code",
   "execution_count": 36,
   "id": "2b0c4491",
   "metadata": {},
   "outputs": [
    {
     "data": {
      "text/html": [
       "<div>\n",
       "<style scoped>\n",
       "    .dataframe tbody tr th:only-of-type {\n",
       "        vertical-align: middle;\n",
       "    }\n",
       "\n",
       "    .dataframe tbody tr th {\n",
       "        vertical-align: top;\n",
       "    }\n",
       "\n",
       "    .dataframe thead th {\n",
       "        text-align: right;\n",
       "    }\n",
       "</style>\n",
       "<table border=\"1\" class=\"dataframe\">\n",
       "  <thead>\n",
       "    <tr style=\"text-align: right;\">\n",
       "      <th></th>\n",
       "      <th>Symbol</th>\n",
       "      <th>Price</th>\n",
       "      <th>Volume</th>\n",
       "      <th>Change$</th>\n",
       "      <th>Change%</th>\n",
       "    </tr>\n",
       "  </thead>\n",
       "  <tbody>\n",
       "    <tr>\n",
       "      <th>0</th>\n",
       "      <td>LESL</td>\n",
       "      <td>$5.20</td>\n",
       "      <td>64</td>\n",
       "      <td>0.31</td>\n",
       "      <td>6.34</td>\n",
       "    </tr>\n",
       "    <tr>\n",
       "      <th>190</th>\n",
       "      <td>LESL</td>\n",
       "      <td>$5.20</td>\n",
       "      <td>64</td>\n",
       "      <td>0.31</td>\n",
       "      <td>6.34</td>\n",
       "    </tr>\n",
       "    <tr>\n",
       "      <th>90</th>\n",
       "      <td>LESL</td>\n",
       "      <td>$5.20</td>\n",
       "      <td>64</td>\n",
       "      <td>0.31</td>\n",
       "      <td>6.34</td>\n",
       "    </tr>\n",
       "    <tr>\n",
       "      <th>110</th>\n",
       "      <td>LESL</td>\n",
       "      <td>$5.20</td>\n",
       "      <td>64</td>\n",
       "      <td>0.31</td>\n",
       "      <td>6.34</td>\n",
       "    </tr>\n",
       "    <tr>\n",
       "      <th>150</th>\n",
       "      <td>LESL</td>\n",
       "      <td>$5.20</td>\n",
       "      <td>64</td>\n",
       "      <td>0.31</td>\n",
       "      <td>6.34</td>\n",
       "    </tr>\n",
       "    <tr>\n",
       "      <th>...</th>\n",
       "      <td>...</td>\n",
       "      <td>...</td>\n",
       "      <td>...</td>\n",
       "      <td>...</td>\n",
       "      <td>...</td>\n",
       "    </tr>\n",
       "    <tr>\n",
       "      <th>20</th>\n",
       "      <td>FOX</td>\n",
       "      <td>$28.28</td>\n",
       "      <td>2K</td>\n",
       "      <td>-1.31</td>\n",
       "      <td>-4.43</td>\n",
       "    </tr>\n",
       "    <tr>\n",
       "      <th>120</th>\n",
       "      <td>FOX</td>\n",
       "      <td>$28.28</td>\n",
       "      <td>2K</td>\n",
       "      <td>-1.31</td>\n",
       "      <td>-4.43</td>\n",
       "    </tr>\n",
       "    <tr>\n",
       "      <th>160</th>\n",
       "      <td>FOX</td>\n",
       "      <td>$28.28</td>\n",
       "      <td>2K</td>\n",
       "      <td>-1.31</td>\n",
       "      <td>-4.43</td>\n",
       "    </tr>\n",
       "    <tr>\n",
       "      <th>100</th>\n",
       "      <td>FOX</td>\n",
       "      <td>$28.28</td>\n",
       "      <td>2K</td>\n",
       "      <td>-1.31</td>\n",
       "      <td>-4.43</td>\n",
       "    </tr>\n",
       "    <tr>\n",
       "      <th>200</th>\n",
       "      <td>FOX</td>\n",
       "      <td>$28.28</td>\n",
       "      <td>2K</td>\n",
       "      <td>-1.31</td>\n",
       "      <td>-4.43</td>\n",
       "    </tr>\n",
       "  </tbody>\n",
       "</table>\n",
       "<p>230 rows × 5 columns</p>\n",
       "</div>"
      ],
      "text/plain": [
       "    Symbol   Price Volume Change$  Change%\n",
       "0     LESL   $5.20     64    0.31     6.34\n",
       "190   LESL   $5.20     64    0.31     6.34\n",
       "90    LESL   $5.20     64    0.31     6.34\n",
       "110   LESL   $5.20     64    0.31     6.34\n",
       "150   LESL   $5.20     64    0.31     6.34\n",
       "..     ...     ...    ...     ...      ...\n",
       "20     FOX  $28.28     2K   -1.31    -4.43\n",
       "120    FOX  $28.28     2K   -1.31    -4.43\n",
       "160    FOX  $28.28     2K   -1.31    -4.43\n",
       "100    FOX  $28.28     2K   -1.31    -4.43\n",
       "200    FOX  $28.28     2K   -1.31    -4.43\n",
       "\n",
       "[230 rows x 5 columns]"
      ]
     },
     "execution_count": 36,
     "metadata": {},
     "output_type": "execute_result"
    }
   ],
   "source": [
    "dataframe"
   ]
  },
  {
   "cell_type": "markdown",
   "id": "44ab7627",
   "metadata": {},
   "source": [
    "# explanation of the code"
   ]
  },
  {
   "cell_type": "markdown",
   "id": "5e0e8ae5",
   "metadata": {},
   "source": [
    " __1. Import necessary libraries:__\n",
    "pandas is a library used for data manipulation and analysis.\n",
    "requests is used for making HTTP requests to fetch web pages.\n",
    "BeautifulSoup is used for parsing HTML content.\n",
    "\n",
    "\n",
    "__2. Specify the URL to scrape:__\n",
    "\n",
    "__3. Send an HTTP GET request to the URL:__\n",
    "\n",
    "\n",
    "__4. Create a BeautifulSoup object for parsing the HTML:__\n",
    "\n",
    "\n",
    "__5. Locate the HTML table of interest:__\n",
    "\n",
    "table = soup.find_all('div', class_='element element--table table--fixed screener-table')\n",
    "This line uses BeautifulSoup's find_all method to locate all div elements with the specified class, which corresponds to the table you want to scrape.\n",
    "\n",
    "__6. Define column headers for the DataFrame:__\n",
    "\n",
    "column_headers = ['Symbol', 'Price', 'Volume', 'Change$', 'Change%']\n",
    "These are the column names you want for your DataFrame.\n",
    "\n"
   ]
  },
  {
   "cell_type": "markdown",
   "id": "fc112d95",
   "metadata": {},
   "source": [
    "__7. Create an empty list to store data__\n",
    "python\n",
    "data = []\n",
    "This list will be used to store dictionaries, where each dictionary represents a row of data.\n",
    "\n",
    "__8. Remove unwanted 'a' elements from the HTML:__\n",
    "\n",
    "for tr in soup.select('a')\n",
    "    tr.extract()\n",
    "This loop finds and removes any 'a' elements from the HTML, which may contain unwanted data.\n",
    "\n",
    "__9. Loop through each 'tr' element in the table:__\n",
    "\n",
    "python\n",
    "\n",
    "for tr in table[0].find_all('tr'):\n",
    "This loop iterates through each table row (<tr>) within the specified table.\n"
   ]
  },
  {
   "cell_type": "markdown",
   "id": "3c268e84",
   "metadata": {},
   "source": [
    "__10. Initialize variables for each column:__\n",
    "\n",
    "python\n",
    "i = 0\n",
    "symbol = ''\n",
    "price = ''\n",
    "volume = ''\n",
    "change = ''\n",
    "change_percent = 0\n",
    "These variables will be used to temporarily store data for each row.\n",
    "\n",
    "__11. Loop through each 'td' element within the row:__\n",
    "\n",
    "python\n",
    "Copy code\n",
    "for td in tr.find_all('td'):\n",
    "    i = i + 1\n",
    "This nested loop iterates through each table cell (<td>) within the current row.\n",
    "\n"
   ]
  },
  {
   "cell_type": "markdown",
   "id": "7e6a65ff",
   "metadata": {},
   "source": [
    "__12. Extract and store data based on the column index:__\n",
    "\n",
    "python\n",
    "Copy code\n",
    "if i == 1:\n",
    "    symbol = td.text.replace('\\n', '')\n",
    "if i == 3:\n",
    "    price = td.text.replace('\\n', '')\n",
    "if i == 4:\n",
    "    volume = td.text.replace('\\n', '')\n",
    "if i == 5:\n",
    "    change = td.text.replace('\\n', '')\n",
    "if i == 6:\n",
    "    change_percent = float(td.text.replace('\\n', '').replace('%', ''))\n",
    "Depending on the value of i, it assigns the cell's content to the appropriate variable after cleaning the data.\n",
    "\n",
    "__13. Append the data to the data list as a dictionary:__\n",
    "\n",
    "python\n",
    "Copy code\n",
    "if symbol != '':\n",
    "    data.append({\n",
    "        'Symbol': symbol,\n",
    "        'Price': price,\n",
    "        'Volume': volume,\n",
    "        'Change$': change,\n",
    "        'Change%': change_percent\n",
    "    })\n",
    " This code block creates a dictionary for the current row of data and appends it to the data list if the symbol is not empty. It ensures that only rows with valid data are added to the list.\n"
   ]
  },
  {
   "cell_type": "markdown",
   "id": "223db343",
   "metadata": {},
   "source": [
    "__14. Create a DataFrame from the collected data:__\n",
    "\n",
    "python\n",
    "Copy code\n",
    "dataframe = pd.DataFrame(data)\n",
    "This line converts the data list of dictionaries into a pandas DataFrame.\n",
    "\n",
    "__15. Sort the DataFrame by the 'Change%' column in descending order:__\n",
    "\n",
    "python\n",
    "Copy code\n",
    "dataframe.sort_values(\"Change%\", axis=0, ascending=False, inplace=True, na_position='last')\n",
    "It sorts the DataFrame based on the 'Change%' column, arranging the rows in descending order of change percentage.\n",
    "\n",
    "Print the final DataFrame:\n",
    "\n",
    "python\n",
    "Copy code\n",
    "print(dataframe)\n",
    "Finally, the code prints the sorted DataFrame containing the scraped data."
   ]
  },
  {
   "cell_type": "code",
   "execution_count": null,
   "id": "a3f514c0",
   "metadata": {},
   "outputs": [],
   "source": []
  }
 ],
 "metadata": {
  "kernelspec": {
   "display_name": "Python 3",
   "language": "python",
   "name": "python3"
  },
  "language_info": {
   "codemirror_mode": {
    "name": "ipython",
    "version": 3
   },
   "file_extension": ".py",
   "mimetype": "text/x-python",
   "name": "python",
   "nbconvert_exporter": "python",
   "pygments_lexer": "ipython3",
   "version": "3.8.8"
  },
  "toc": {
   "base_numbering": 1,
   "nav_menu": {},
   "number_sections": true,
   "sideBar": true,
   "skip_h1_title": true,
   "title_cell": "Table of Contents",
   "title_sidebar": "Contents",
   "toc_cell": true,
   "toc_position": {},
   "toc_section_display": true,
   "toc_window_display": false
  }
 },
 "nbformat": 4,
 "nbformat_minor": 5
}
